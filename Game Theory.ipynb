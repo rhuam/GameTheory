{
  "cells": [
    {
      "cell_type": "code",
      "execution_count": 2,
      "outputs": [],
      "source": "import numpy as np\nimport methods as gt",
      "metadata": {
        "pycharm": {
          "metadata": false,
          "name": "#%% Imports\n",
          "is_executing": false
        }
      }
    },
    {
      "cell_type": "markdown",
      "source": "# Solution by dominant action\nDominant strategies are considered as better than other strategies, no matter what other players might do.\n\n| #    | B(1) | B(2) | B(3) |\n|------|------|------|------|\n| A(1) |  5,0 |  5,4 |  0,3 |\n| A(2) |  0,4 |  0,3 |  5,2 |\n\n",
      "metadata": {
        "pycharm": {
          "metadata": false
        }
      }
    },
    {
      "cell_type": "code",
      "execution_count": 3,
      "metadata": {
        "collapsed": true,
        "pycharm": {
          "name": "#%%\n",
          "is_executing": false
        }
      },
      "outputs": [
        {
          "name": "stdout",
          "text": [
            "[[(5., 4.)]]\n"
          ],
          "output_type": "stream"
        }
      ],
      "source": "payoff_matrix \u003d np.array([[(5,0), (5,4), (0,3)],\n                          [(0,4), (0,3), (5,2)]], dtype\u003d\u0027f,f\u0027)\ngt.dominant(payoff_matrix)\n"
    },
    {
      "cell_type": "markdown",
      "source": "A dominant strategy equilibrium is reached when each player chooses their own dominant strategy. In the prisoner’s dilemma, \nthe dominant strategy for both players is to confess, which means that confess-confess is the dominant strategy equilibrium,\neven if this equilibrium is not a Pareto optimal equilibrium (Lie-Lie).\n\n| #          | B(Confess) | B(Lie) | \n|------------|------------|--------|\n| A(Confess) |    -8,-8   |  0,-10 |\n| A(Lie)     |    -10,0   |  -1,-1 |\n\n",
      "metadata": {
        "pycharm": {
          "metadata": false,
          "name": "#%% md\n"
        }
      }
    },
    {
      "cell_type": "code",
      "execution_count": 4,
      "outputs": [
        {
          "name": "stdout",
          "text": [
            "[[(-8., -8.)]]\n"
          ],
          "output_type": "stream"
        }
      ],
      "source": "payoff_prisoners_dilemma \u003d np.array([[(-8, -8), (0, -10)],\n                          [(-10, 0), (-1, -1)]], dtype\u003d\u0027f,f\u0027)\ngt.dominant(payoff_prisoners_dilemma)\n",
      "metadata": {
        "pycharm": {
          "metadata": false,
          "name": "#%%\n",
          "is_executing": false
        }
      }
    },
    {
      "cell_type": "markdown",
      "source": "# Solution by Pareto-Dominace\nA pair of actions leading to an outcome to both players is\nPareto-optimal or Pareto-efficient (or simply efficient) if\nthere is no other outcome that makes the payoff of one of\nthe players better than that pair of actions, without making\nthe payoff of another player worse\n",
      "metadata": {
        "pycharm": {
          "metadata": false,
          "name": "#%% md\n"
        }
      }
    },
    {
      "cell_type": "code",
      "execution_count": 3,
      "outputs": [
        {
          "data": {
            "text/plain": "[[(-1., -1.)]]"
          },
          "metadata": {},
          "output_type": "execute_result",
          "execution_count": 3
        }
      ],
      "source": "payoff_prisoners_dilemma \u003d np.array([[(-8, -8), (0, -10)],\n                          [(-10, 0), (-1, -1)]], dtype\u003d\u0027f,f\u0027)\ngt.pareto(payoff_prisoners_dilemma)\n",
      "metadata": {
        "pycharm": {
          "metadata": false,
          "name": "#%%\n",
          "is_executing": false
        }
      }
    }
  ],
  "metadata": {
    "language_info": {
      "codemirror_mode": {
        "name": "ipython",
        "version": 2
      },
      "file_extension": ".py",
      "mimetype": "text/x-python",
      "name": "python",
      "nbconvert_exporter": "python",
      "pygments_lexer": "ipython2",
      "version": "2.7.6"
    },
    "kernelspec": {
      "name": "python3",
      "language": "python",
      "display_name": "Python 3"
    },
    "stem_cell": {
      "cell_type": "raw",
      "source": "",
      "metadata": {
        "pycharm": {
          "metadata": false
        }
      }
    }
  },
  "nbformat": 4,
  "nbformat_minor": 0
}