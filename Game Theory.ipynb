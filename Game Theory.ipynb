{
 "cells": [
  {
   "cell_type": "code",
   "execution_count": 13,
   "metadata": {
    "pycharm": {
     "is_executing": false,
     "metadata": false,
     "name": "#%% Imports\n"
    }
   },
   "outputs": [],
   "source": [
    "import numpy as np\n",
    "import methods as gt"
   ]
  },
  {
   "cell_type": "markdown",
   "metadata": {
    "pycharm": {
     "metadata": false
    }
   },
   "source": [
    "# Solution by dominant action\n",
    "Dominant strategies are considered as better than other strategies, no matter what other players might do.\n",
    "\n",
    "| #    | B(1) | B(2) | B(3) |\n",
    "|------|------|------|------|\n",
    "| A(1) |  5,0 |  5,4 |  0,3 |\n",
    "| A(2) |  0,4 |  0,3 |  5,2 |\n",
    "\n"
   ]
  },
  {
   "cell_type": "code",
   "execution_count": 14,
   "metadata": {
    "pycharm": {
     "is_executing": false,
     "name": "#%%\n"
    }
   },
   "outputs": [
    {
     "data": {
      "text/plain": [
       "array([[(5., 4.)]], dtype=[('f0', '<f4'), ('f1', '<f4')])"
      ]
     },
     "execution_count": 14,
     "metadata": {},
     "output_type": "execute_result"
    }
   ],
   "source": [
    "payoff_matrix = np.array([[(5,0), (5,4), (0,3)],\n",
    "                          [(0,4), (0,3), (5,2)]], dtype='f,f')\n",
    "gt.dominant(payoff_matrix)\n"
   ]
  },
  {
   "cell_type": "markdown",
   "metadata": {
    "pycharm": {
     "metadata": false,
     "name": "#%% md\n"
    }
   },
   "source": [
    "A dominant strategy equilibrium is reached when each player chooses their own dominant strategy. In the prisoner’s dilemma, \n",
    "the dominant strategy for both players is to confess, which means that confess-confess is the dominant strategy equilibrium,\n",
    "even if this equilibrium is not a Pareto optimal equilibrium (Lie-Lie).\n",
    "\n",
    "| #          | B(Confess) | B(Lie) | \n",
    "|------------|------------|--------|\n",
    "| A(Confess) |    -8,-8   |  0,-10 |\n",
    "| A(Lie)     |    -10,0   |  -1,-1 |\n",
    "\n"
   ]
  },
  {
   "cell_type": "code",
   "execution_count": 4,
   "metadata": {
    "pycharm": {
     "is_executing": false,
     "metadata": false,
     "name": "#%%\n"
    }
   },
   "outputs": [
    {
     "name": "stdout",
     "output_type": "stream",
     "text": [
      "[[(-8., -8.)]]\n"
     ]
    }
   ],
   "source": [
    "payoff_prisoners_dilemma = np.array([[(-8, -8), (0, -10)],\n",
    "                          [(-10, 0), (-1, -1)]], dtype='f,f')\n",
    "gt.dominant(payoff_prisoners_dilemma)\n"
   ]
  },
  {
   "cell_type": "markdown",
   "metadata": {
    "pycharm": {
     "metadata": false,
     "name": "#%% md\n"
    }
   },
   "source": [
    "# Solution by Pareto-Dominace\n",
    "A pair of actions leading to an outcome to both players is\n",
    "Pareto-optimal or Pareto-efficient (or simply efficient) if\n",
    "there is no other outcome that makes the payoff of one of\n",
    "the players better than that pair of actions, without making\n",
    "the payoff of another player worse\n"
   ]
  },
  {
   "cell_type": "code",
   "execution_count": 3,
   "metadata": {
    "pycharm": {
     "is_executing": false,
     "metadata": false,
     "name": "#%%\n"
    }
   },
   "outputs": [
    {
     "data": {
      "text/plain": [
       "[[(-1., -1.)]]"
      ]
     },
     "execution_count": 3,
     "metadata": {},
     "output_type": "execute_result"
    }
   ],
   "source": [
    "payoff_prisoners_dilemma = np.array([[(-8, -8), (0, -10)],\n",
    "                          [(-10, 0), (-1, -1)]], dtype='f,f')\n",
    "gt.pareto(payoff_prisoners_dilemma)\n"
   ]
  }
 ],
 "metadata": {
  "kernelspec": {
   "display_name": "Python 3",
   "language": "python",
   "name": "python3"
  },
  "language_info": {
   "codemirror_mode": {
    "name": "ipython",
    "version": 3
   },
   "file_extension": ".py",
   "mimetype": "text/x-python",
   "name": "python",
   "nbconvert_exporter": "python",
   "pygments_lexer": "ipython3",
   "version": "3.6.7"
  },
  "stem_cell": {
   "cell_type": "raw",
   "metadata": {
    "pycharm": {
     "metadata": false
    }
   },
   "source": ""
  }
 },
 "nbformat": 4,
 "nbformat_minor": 1
}
