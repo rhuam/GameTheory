{
  "cells": [
    {
      "cell_type": "code",
      "execution_count": 2,
      "outputs": [],
      "source": "import numpy as np\nimport methods as gt",
      "metadata": {
        "pycharm": {
          "metadata": false,
          "name": "#%% Imports\n",
          "is_executing": false
        }
      }
    },
    {
      "cell_type": "markdown",
      "source": "Exemplo da aula",
      "metadata": {
        "pycharm": {
          "metadata": false
        }
      }
    },
    {
      "cell_type": "code",
      "execution_count": 3,
      "metadata": {
        "collapsed": true,
        "pycharm": {
          "name": "#%%\n",
          "is_executing": false
        }
      },
      "outputs": [
        {
          "name": "stdout",
          "text": [
            "[[(5., 4.)]]\n"
          ],
          "output_type": "stream"
        }
      ],
      "source": "payoff_matrix \u003d np.array([[(5,0), (5,4), (0,3)],\n                          [(0,4), (0,3), (5,2)]], dtype\u003d\u0027f,f\u0027)\ngt.dominant(payoff_matrix, 0)\n"
    },
    {
      "cell_type": "markdown",
      "source": "Exemplo para o dilema do prisionerio",
      "metadata": {
        "pycharm": {
          "metadata": false,
          "name": "#%% md\n"
        }
      }
    },
    {
      "cell_type": "code",
      "execution_count": 4,
      "outputs": [
        {
          "name": "stdout",
          "text": [
            "[[(-8., -8.)]]\n"
          ],
          "output_type": "stream"
        }
      ],
      "source": "payoff_prisoners_dilemma \u003d np.array([[(-8, -8), (0, -10)],\n                          [(-10, 0), (-1, -1)]], dtype\u003d\u0027f,f\u0027)\ngt.dominant(payoff_prisoners_dilemma, 0)\n",
      "metadata": {
        "pycharm": {
          "metadata": false,
          "name": "#%%\n",
          "is_executing": false
        }
      }
    }
  ],
  "metadata": {
    "language_info": {
      "codemirror_mode": {
        "name": "ipython",
        "version": 2
      },
      "file_extension": ".py",
      "mimetype": "text/x-python",
      "name": "python",
      "nbconvert_exporter": "python",
      "pygments_lexer": "ipython2",
      "version": "2.7.6"
    },
    "kernelspec": {
      "name": "python3",
      "language": "python",
      "display_name": "Python 3"
    },
    "stem_cell": {
      "cell_type": "raw",
      "source": "",
      "metadata": {
        "pycharm": {
          "metadata": false
        }
      }
    }
  },
  "nbformat": 4,
  "nbformat_minor": 0
}